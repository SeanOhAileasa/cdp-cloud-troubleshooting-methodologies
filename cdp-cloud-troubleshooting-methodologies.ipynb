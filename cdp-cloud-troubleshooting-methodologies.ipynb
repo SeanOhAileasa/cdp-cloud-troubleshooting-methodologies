{
 "cells": [
  {
   "cell_type": "markdown",
   "id": "d4ee9e4b",
   "metadata": {},
   "source": [
    "***\n",
    "< [Home](https://github.com/SeanOhAileasa) | [README](https://github.com/SeanOhAileasa/cdp-cloud-troubleshooting-methodologies/blob/main/README.md) >\n",
    "\n",
    "## CompTIA Cloud+ - Course Material 2022\n",
    "###### Topic: ``Cloud Troubleshooting Methodologies``\n",
    "***"
   ]
  },
  {
   "cell_type": "markdown",
   "id": "e7228f57",
   "metadata": {},
   "source": [
    "<a id=\"top\"></a>\n",
    "***\n",
    "## Table of Contents\n",
    "***"
   ]
  },
  {
   "cell_type": "markdown",
   "id": "c2bb5e7b",
   "metadata": {},
   "source": [
    "### [Cloud Troubleshooting Methodologies](#aa) <br/><br/>\n",
    "<hr width=50%;>"
   ]
  },
  {
   "cell_type": "markdown",
   "id": "99b62bf1",
   "metadata": {},
   "source": [
    "### [Cloud Troubleshooting Methodology](#A) <br/><br/>\n",
    "<hr width=50%;>"
   ]
  },
  {
   "cell_type": "markdown",
   "id": "5dab90b4",
   "metadata": {},
   "source": [
    "### [Network Security Group Connectivity Issues](#B) <br/><br/>\n",
    "<hr width=50%;>"
   ]
  },
  {
   "cell_type": "markdown",
   "id": "88d767c6",
   "metadata": {},
   "source": [
    "### [Network Connectivity Issues](#C) <br/><br/>\n",
    "<hr width=50%;>"
   ]
  },
  {
   "cell_type": "markdown",
   "id": "c0417375",
   "metadata": {},
   "source": [
    "### [Network Configuration Connectivity Issues](#D) <br/><br/>\n",
    "<hr width=50%;>"
   ]
  },
  {
   "cell_type": "markdown",
   "id": "a4ae2fd1",
   "metadata": {},
   "source": [
    "### [Network Routing and Firewall Connectivity Issues](#E) <br/><br/>\n",
    "<hr width=50%;>"
   ]
  },
  {
   "cell_type": "markdown",
   "id": "16d42456",
   "metadata": {},
   "source": [
    "### [Network Connectivity Issue Tools](#F) <br/><br/>\n",
    "<hr width=50%;>"
   ]
  },
  {
   "cell_type": "markdown",
   "id": "81f6485e",
   "metadata": {},
   "source": [
    "### [Network Troubleshooting Tools](#G) <br/><br/>\n",
    "<hr width=50%;>"
   ]
  },
  {
   "cell_type": "markdown",
   "id": "80b27957",
   "metadata": {},
   "source": [
    "### [Resource Utilization Performance Tuning](#H) <br/><br/>\n",
    "<hr width=50%;>"
   ]
  },
  {
   "cell_type": "markdown",
   "id": "d15ea8f9",
   "metadata": {},
   "source": [
    "### [Application Performance Tuning](#I) <br/><br/>\n",
    "<hr width=50%;>"
   ]
  },
  {
   "cell_type": "markdown",
   "id": "d1b930bd",
   "metadata": {},
   "source": [
    "### [Load Balancing Performance Tuning](#J) <br/><br/>\n",
    "<hr width=50%;>"
   ]
  },
  {
   "cell_type": "markdown",
   "id": "ea4a83d5",
   "metadata": {},
   "source": [
    "### [Course Summary](#K) <br/><br/>\n",
    "<hr width=50%;>"
   ]
  },
  {
   "cell_type": "markdown",
   "id": "bf2b95e2",
   "metadata": {},
   "source": [
    "***\n",
    "## END"
   ]
  },
  {
   "cell_type": "markdown",
   "id": "34aa6eb5",
   "metadata": {},
   "source": [
    "< [Table of Contents](#top) | [References](#references) >\n",
    "<a id=\"aa\"></a>\n",
    "***\n",
    "### Cloud Troubleshooting Methodologies\n",
    "***"
   ]
  },
  {
   "cell_type": "markdown",
   "id": "f1dc48ab",
   "metadata": {},
   "source": []
  },
  {
   "cell_type": "markdown",
   "id": "4372e1e3",
   "metadata": {},
   "source": [
    "< [Table of Contents](#top) | [References](#references) >\n",
    "<a id=\"A\"></a>\n",
    "***\n",
    "### Cloud Troubleshooting Methodology\n",
    "*** "
   ]
  },
  {
   "cell_type": "markdown",
   "id": "433947ff",
   "metadata": {},
   "source": []
  },
  {
   "cell_type": "markdown",
   "id": "cd9215d7",
   "metadata": {},
   "source": [
    "< [Table of Contents](#top) | [References](#references) >\n",
    "<a id=\"B\"></a>\n",
    "***\n",
    "### Network Security Group Connectivity Issues\n",
    "*** "
   ]
  },
  {
   "cell_type": "markdown",
   "id": "903ca4f8",
   "metadata": {},
   "source": []
  },
  {
   "cell_type": "markdown",
   "id": "52553f05",
   "metadata": {},
   "source": [
    "< [Table of Contents](#top) | [References](#references) >\n",
    "<a id=\"C\"></a>\n",
    "***\n",
    "### Network Connectivity Issues\n",
    "*** "
   ]
  },
  {
   "cell_type": "markdown",
   "id": "ea9ef816",
   "metadata": {},
   "source": []
  },
  {
   "cell_type": "markdown",
   "id": "cf0db16c",
   "metadata": {},
   "source": [
    "< [Table of Contents](#top) | [References](#references) >\n",
    "<a id=\"D\"></a>\n",
    "***\n",
    "### Network Configuration Connectivity Issues\n",
    "*** "
   ]
  },
  {
   "cell_type": "markdown",
   "id": "b237db33",
   "metadata": {},
   "source": []
  },
  {
   "cell_type": "markdown",
   "id": "f8aa7d90",
   "metadata": {},
   "source": [
    "< [Table of Contents](#top) | [References](#references) >\n",
    "<a id=\"E\"></a>\n",
    "***\n",
    "### Network Routing and Firewall Connectivity Issues\n",
    "*** "
   ]
  },
  {
   "cell_type": "markdown",
   "id": "6437ccb4",
   "metadata": {},
   "source": []
  },
  {
   "cell_type": "markdown",
   "id": "6c01dd19",
   "metadata": {},
   "source": [
    "< [Table of Contents](#top) | [References](#references) >\n",
    "<a id=\"F\"></a>\n",
    "***\n",
    "### Network Connectivity Issue Tools\n",
    "*** "
   ]
  },
  {
   "cell_type": "markdown",
   "id": "7488da0e",
   "metadata": {},
   "source": []
  },
  {
   "cell_type": "markdown",
   "id": "0f32cd19",
   "metadata": {},
   "source": [
    "< [Table of Contents](#top) | [References](#references) >\n",
    "<a id=\"G\"></a>\n",
    "***\n",
    "### Network Troubleshooting Tools\n",
    "*** "
   ]
  },
  {
   "cell_type": "markdown",
   "id": "b5cf2e95",
   "metadata": {},
   "source": []
  },
  {
   "cell_type": "markdown",
   "id": "b0f2e9af",
   "metadata": {},
   "source": [
    "< [Table of Contents](#top) | [References](#references) >\n",
    "<a id=\"H\"></a>\n",
    "***\n",
    "### Resource Utilization Performance Tuning\n",
    "*** "
   ]
  },
  {
   "cell_type": "markdown",
   "id": "48fe5c6a",
   "metadata": {},
   "source": []
  },
  {
   "cell_type": "markdown",
   "id": "fb8e401e",
   "metadata": {},
   "source": [
    "< [Table of Contents](#top) | [References](#references) >\n",
    "<a id=\"I\"></a>\n",
    "***\n",
    "### Application Performance Tuning\n",
    "*** "
   ]
  },
  {
   "cell_type": "markdown",
   "id": "634c4343",
   "metadata": {},
   "source": []
  },
  {
   "cell_type": "markdown",
   "id": "e9792b82",
   "metadata": {},
   "source": [
    "< [Table of Contents](#top) | [References](#references) >\n",
    "<a id=\"J\"></a>\n",
    "***\n",
    "### Load Balancing Performance Tuning\n",
    "*** "
   ]
  },
  {
   "cell_type": "markdown",
   "id": "9c2fa04a",
   "metadata": {},
   "source": []
  },
  {
   "cell_type": "markdown",
   "id": "173e78b5",
   "metadata": {},
   "source": [
    "< [Table of Contents](#top) | [References](#references) >\n",
    "<a id=\"K\"></a>\n",
    "***\n",
    "### Course Summary\n",
    "*** "
   ]
  },
  {
   "cell_type": "markdown",
   "id": "9cdaf747",
   "metadata": {},
   "source": []
  },
  {
   "cell_type": "markdown",
   "id": "2cc20932",
   "metadata": {},
   "source": [
    "***\n",
    "## END"
   ]
  },
  {
   "cell_type": "markdown",
   "id": "e0e42d51",
   "metadata": {},
   "source": [
    "< [Table of Contents](#top) >\n",
    "<a id=\"references\"></a>\n",
    "***\n",
    "## References\n",
    "***"
   ]
  },
  {
   "cell_type": "markdown",
   "id": "757bf6de",
   "metadata": {},
   "source": [
    "&nbsp;&nbsp;&nbsp;&nbsp;&nbsp;&nbsp;&nbsp;&nbsp;&nbsp;skillsoft, \"Cloud Troubleshooting Methodologies,\" [skillsoft.com](https://web.archive.org/web/20220403100053/https://www.skillsoft.com/), n.d.."
   ]
  },
  {
   "cell_type": "markdown",
   "id": "b33c372a",
   "metadata": {},
   "source": [
    "***\n",
    "## END"
   ]
  },
  {
   "cell_type": "markdown",
   "id": "e5961b4d",
   "metadata": {},
   "source": [
    "< [Table of Contents](#top) | [References](#references) >\n",
    "<a id=\"appendix\"></a>\n",
    "***\n",
    "## Appendix\n",
    "***"
   ]
  },
  {
   "cell_type": "markdown",
   "id": "00d82a82",
   "metadata": {},
   "source": [
    "***\n",
    "## END"
   ]
  },
  {
   "cell_type": "code",
   "execution_count": 1,
   "id": "706756a2",
   "metadata": {},
   "outputs": [
    {
     "name": "stderr",
     "output_type": "stream",
     "text": [
      "C:\\Users\\SeanOhAileasa\\AppData\\Local\\Temp\\ipykernel_16652\\1322614208.py:1: DeprecationWarning: Importing display from IPython.core.display is deprecated since IPython 7.14, please import from IPython display\n",
      "  from IPython.core.display import display,HTML\n"
     ]
    },
    {
     "data": {
      "text/html": [
       "<style>.container { width:100% !important; }</style>"
      ],
      "text/plain": [
       "<IPython.core.display.HTML object>"
      ]
     },
     "metadata": {},
     "output_type": "display_data"
    }
   ],
   "source": [
    "from IPython.core.display import display,HTML\n",
    "display(HTML(\"<style>.container { width:100% !important; }</style>\"))"
   ]
  },
  {
   "cell_type": "markdown",
   "id": "899c1783",
   "metadata": {},
   "source": [
    "# END JUPYTER NOTEBOOK"
   ]
  }
 ],
 "metadata": {
  "kernelspec": {
   "display_name": "Python 3 (ipykernel)",
   "language": "python",
   "name": "python3"
  },
  "language_info": {
   "codemirror_mode": {
    "name": "ipython",
    "version": 3
   },
   "file_extension": ".py",
   "mimetype": "text/x-python",
   "name": "python",
   "nbconvert_exporter": "python",
   "pygments_lexer": "ipython3",
   "version": "3.9.12"
  }
 },
 "nbformat": 4,
 "nbformat_minor": 5
}
